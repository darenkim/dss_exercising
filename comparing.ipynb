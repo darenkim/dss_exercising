{
 "cells": [
  {
   "cell_type": "markdown",
   "metadata": {},
   "source": [
    "# 뷰티풀숩, 셀레니움 비교"
   ]
  },
  {
   "cell_type": "code",
   "execution_count": 1,
   "metadata": {},
   "outputs": [
    {
     "data": {
      "text/plain": [
       "['삼성전자우',\n",
       " '카카오',\n",
       " '삼성',\n",
       " 'sk하이닉스',\n",
       " '현대자동차',\n",
       " '네이버',\n",
       " 'lg화학',\n",
       " '현대차',\n",
       " '카카오게임즈',\n",
       " '삼성전자서비스센터']"
      ]
     },
     "execution_count": 1,
     "metadata": {},
     "output_type": "execute_result"
    }
   ],
   "source": [
    "import scrapy\n",
    "import requests\n",
    "from scrapy.http import TextResponse\n",
    "\n",
    "req = requests.get(\"https://search.naver.com/search.naver?sm=top_hty&fbm=1&ie=utf8&query=삼성전자\")\n",
    "tr_obj = TextResponse(req.url, body=req.text, encoding=\"utf-8\")\n",
    "selector = '//*[@id=\"nx_related_keywords\"]/dl/dd[1]/ul/li/a/text()'\n",
    "datas = tr_obj.xpath(selector)\n",
    "datas.extract()"
   ]
  },
  {
   "cell_type": "code",
   "execution_count": 2,
   "metadata": {},
   "outputs": [
    {
     "name": "stdout",
     "output_type": "stream",
     "text": [
      "['삼성전자우', '카카오', '삼성', 'sk하이닉스', '현대자동차', '네이버', 'lg화학', '현대차', '카카오게임즈', '삼성전자서비스센터']\n"
     ]
    }
   ],
   "source": [
    "import requests\n",
    "from bs4 import BeautifulSoup\n",
    "\n",
    "query = \"삼성전자\"\n",
    "url = \"https://search.naver.com/search.naver?sm=top_hty&fbm=1&ie=utf8&query={}\".format(query)\n",
    "response = requests.get(url)\n",
    "dom = BeautifulSoup(response.content, \"html.parser\")\n",
    "elements = dom.select(\"._related_keyword_ul > li\")\n",
    "keywords = []\n",
    "\n",
    "for element in elements:\n",
    "    keywords.append(element.text.strip())\n",
    "    \n",
    "print(keywords)"
   ]
  },
  {
   "cell_type": "code",
   "execution_count": 11,
   "metadata": {},
   "outputs": [],
   "source": [
    "from selenium import webdriver\n",
    "\n",
    "page = 2\n",
    "url = \"https://news.naver.com/main/main.nhn?mode=LSD&mid=shm&sid1=100#&date=%2000:00:00&page={}\".format(page)\n",
    "driver = webdriver.Chrome()\n",
    "driver.get(url)\n",
    "articles = driver.find_elements_by_css_selector(\"#section_body li\")\n",
    "#articles[0].find_element_by_css_selector(\"dt:not(.photo) > a\").text\n",
    "article_list = []\n",
    "\n",
    "for article in articles:\n",
    "    title = article.find_element_by_css_selector(\"dt:not(.photo) > a\").text\n",
    "    article_list.append(title)\n",
    "    \n",
    "driver.quit()"
   ]
  },
  {
   "cell_type": "code",
   "execution_count": 12,
   "metadata": {},
   "outputs": [
    {
     "data": {
      "text/plain": [
       "['16년째 쌓여가는 이산가족 영상편지 2만편…애타는 기다림',\n",
       " '김정은, 공동조사 외면한채 김여정 대동 현장시찰…어떤 의도?',\n",
       " '[꽁수처 김검사] “공무원 살해소각 김정은이 큰 소리칩니다\"',\n",
       " '문 대통령, 소방관 향한 변함없는 관심·격려 내비쳐',\n",
       " '與 \"차량집회 불법땐 무관용\" vs 野 \"집회자유는 국민 기본권\"',\n",
       " '김정은, “올해 유례없이 힘든 해”…김여정이 공식 수행',\n",
       " '추석 연휴 잊은 해외 봉사…“마스크 함께 만들어요”',\n",
       " '野 \"추미애, 야당 겁박하며 추석 연휴 혼자 다 망쳐\"',\n",
       " '민주당 \"코로나19 대유행, 개천절집회 차단에 달려…완벽 차단해야\"',\n",
       " '추미애 \"무책임한 의혹제기 사과 촉구\"…野 \"또 궤변, 부메랑 될 것',\n",
       " '장제원 \"김종인, 심사위원석에 국민 모셔야 하는데 자신이 앉아\"',\n",
       " '추미애 \"지원장교 전화번호 전달을 \\'지시\\'?...근거 없어\"',\n",
       " '뻔함 피하려다 논란된 청년위 소개글…수습나선 국민의힘 지도부',\n",
       " '국민의힘 \"술먹었는데 음주운전은 아니라는 거냐\"…秋·檢비판(종합)',\n",
       " '[종합]내주 방한 앞둔 폼페이오 \"아시아 순방 일정 재검토\"',\n",
       " '진중권 교수 “추미애 뭘 잘했다고 기세등등? 국민에게 사과해야”',\n",
       " '문재인 대통령 부인 김정숙 여사 청와대 인근 파출소·소방서 방문',\n",
       " '[김광일의 입] 차기 대통령, 다음 서울시장 알아맞히기',\n",
       " '당색 바꿔도 ‘빨강’ 일색인 국민의힘···“도로 새누리당인가”',\n",
       " '트럼프 코로나 확진, 한반도 평화프로세스도 영향 받나']"
      ]
     },
     "execution_count": 12,
     "metadata": {},
     "output_type": "execute_result"
    }
   ],
   "source": [
    "article_list"
   ]
  },
  {
   "cell_type": "code",
   "execution_count": 3,
   "metadata": {},
   "outputs": [
    {
     "data": {
      "text/html": [
       "<div>\n",
       "<style scoped>\n",
       "    .dataframe tbody tr th:only-of-type {\n",
       "        vertical-align: middle;\n",
       "    }\n",
       "\n",
       "    .dataframe tbody tr th {\n",
       "        vertical-align: top;\n",
       "    }\n",
       "\n",
       "    .dataframe thead th {\n",
       "        text-align: right;\n",
       "    }\n",
       "</style>\n",
       "<table border=\"1\" class=\"dataframe\">\n",
       "  <thead>\n",
       "    <tr style=\"text-align: right;\">\n",
       "      <th></th>\n",
       "      <th>symbolCode</th>\n",
       "      <th>date</th>\n",
       "      <th>currencyCode</th>\n",
       "      <th>currencyName</th>\n",
       "      <th>currencyUnit</th>\n",
       "      <th>country</th>\n",
       "      <th>region</th>\n",
       "      <th>name</th>\n",
       "      <th>recurrenceCount</th>\n",
       "      <th>basePrice</th>\n",
       "      <th>...</th>\n",
       "      <th>changeRate</th>\n",
       "      <th>cashBuyingPrice</th>\n",
       "      <th>cashSellingPrice</th>\n",
       "      <th>ttBuyingPrice</th>\n",
       "      <th>ttSellingPrice</th>\n",
       "      <th>tcBuyingPrice</th>\n",
       "      <th>fcSellingPrice</th>\n",
       "      <th>exchangeCommission</th>\n",
       "      <th>usDollarRate</th>\n",
       "      <th>chartImageUrl</th>\n",
       "    </tr>\n",
       "  </thead>\n",
       "  <tbody>\n",
       "    <tr>\n",
       "      <th>0</th>\n",
       "      <td>FRX.KRWUSD</td>\n",
       "      <td>2020-09-29 20:01:52</td>\n",
       "      <td>USD</td>\n",
       "      <td>달러</td>\n",
       "      <td>1</td>\n",
       "      <td>미국</td>\n",
       "      <td>{'korName': '아메리카', 'engName': 'America'}</td>\n",
       "      <td>미국 (KRW/USD)</td>\n",
       "      <td>221</td>\n",
       "      <td>1169.00</td>\n",
       "      <td>...</td>\n",
       "      <td>0.000855</td>\n",
       "      <td>1189.45</td>\n",
       "      <td>1148.55</td>\n",
       "      <td>1157.60</td>\n",
       "      <td>1180.4</td>\n",
       "      <td>None</td>\n",
       "      <td>None</td>\n",
       "      <td>1.9966</td>\n",
       "      <td>1.000</td>\n",
       "      <td>{'day': 'https://t1.daumcdn.net/finance/chart/...</td>\n",
       "    </tr>\n",
       "    <tr>\n",
       "      <th>1</th>\n",
       "      <td>FRX.KRWJPY</td>\n",
       "      <td>2020-09-29 20:01:51</td>\n",
       "      <td>JPY</td>\n",
       "      <td>엔</td>\n",
       "      <td>100</td>\n",
       "      <td>일본</td>\n",
       "      <td>{'korName': '아시아', 'engName': 'Asia'}</td>\n",
       "      <td>일본 (KRW/JPY100)</td>\n",
       "      <td>221</td>\n",
       "      <td>1107.06</td>\n",
       "      <td>...</td>\n",
       "      <td>0.003502</td>\n",
       "      <td>1126.43</td>\n",
       "      <td>1087.69</td>\n",
       "      <td>1096.22</td>\n",
       "      <td>1117.9</td>\n",
       "      <td>None</td>\n",
       "      <td>None</td>\n",
       "      <td>1.8865</td>\n",
       "      <td>0.947</td>\n",
       "      <td>{'day': 'https://t1.daumcdn.net/finance/chart/...</td>\n",
       "    </tr>\n",
       "  </tbody>\n",
       "</table>\n",
       "<p>2 rows × 22 columns</p>\n",
       "</div>"
      ],
      "text/plain": [
       "   symbolCode                 date currencyCode currencyName  currencyUnit  \\\n",
       "0  FRX.KRWUSD  2020-09-29 20:01:52          USD           달러             1   \n",
       "1  FRX.KRWJPY  2020-09-29 20:01:51          JPY            엔           100   \n",
       "\n",
       "  country                                     region             name  \\\n",
       "0      미국  {'korName': '아메리카', 'engName': 'America'}     미국 (KRW/USD)   \n",
       "1      일본      {'korName': '아시아', 'engName': 'Asia'}  일본 (KRW/JPY100)   \n",
       "\n",
       "   recurrenceCount  basePrice  ... changeRate  cashBuyingPrice  \\\n",
       "0              221    1169.00  ...   0.000855          1189.45   \n",
       "1              221    1107.06  ...   0.003502          1126.43   \n",
       "\n",
       "   cashSellingPrice  ttBuyingPrice  ttSellingPrice  tcBuyingPrice  \\\n",
       "0           1148.55        1157.60          1180.4           None   \n",
       "1           1087.69        1096.22          1117.9           None   \n",
       "\n",
       "   fcSellingPrice exchangeCommission usDollarRate  \\\n",
       "0            None             1.9966        1.000   \n",
       "1            None             1.8865        0.947   \n",
       "\n",
       "                                       chartImageUrl  \n",
       "0  {'day': 'https://t1.daumcdn.net/finance/chart/...  \n",
       "1  {'day': 'https://t1.daumcdn.net/finance/chart/...  \n",
       "\n",
       "[2 rows x 22 columns]"
      ]
     },
     "execution_count": 3,
     "metadata": {},
     "output_type": "execute_result"
    }
   ],
   "source": [
    "import requests\n",
    "import pandas as pd\n",
    "\n",
    "from fake_useragent import UserAgent\n",
    "UserAgent().chrome\n",
    "url = \"https://finance.daum.net/api/exchanges/summaries\"\n",
    "headers = {\n",
    "    \"user-agent\": UserAgent().chrome,\n",
    "    \"referer\": \"https://finance.daum.net/exchanges\",\n",
    "}\n",
    "response = requests.get(url, headers=headers)\n",
    "data = response.json()[\"data\"]\n",
    "result_df = pd.DataFrame(data)\n",
    "result_df.head(2)"
   ]
  },
  {
   "cell_type": "code",
   "execution_count": null,
   "metadata": {},
   "outputs": [],
   "source": []
  },
  {
   "cell_type": "markdown",
   "metadata": {},
   "source": [
    "# 텍스트 저장 / pickle 비교"
   ]
  },
  {
   "cell_type": "code",
   "execution_count": 4,
   "metadata": {},
   "outputs": [],
   "source": [
    "import pickle\n",
    "ls = [1,2,3,4,5]\n",
    "with open(\"example\", \"wb\") as f:\n",
    "    pickle.dump(ls,f)"
   ]
  },
  {
   "cell_type": "code",
   "execution_count": 6,
   "metadata": {},
   "outputs": [],
   "source": [
    "with open(\"example\", \"rb\") as f:\n",
    "    data = pickle.load(f)"
   ]
  },
  {
   "cell_type": "code",
   "execution_count": 7,
   "metadata": {},
   "outputs": [
    {
     "data": {
      "text/plain": [
       "[1, 2, 3, 4, 5]"
      ]
     },
     "execution_count": 7,
     "metadata": {},
     "output_type": "execute_result"
    }
   ],
   "source": [
    "data"
   ]
  },
  {
   "cell_type": "code",
   "execution_count": 13,
   "metadata": {},
   "outputs": [],
   "source": [
    "with open(\"example_1\", 'w') as f:\n",
    "    a= 'impossible is nothing'\n",
    "    f.write(a)"
   ]
  },
  {
   "cell_type": "code",
   "execution_count": 15,
   "metadata": {},
   "outputs": [],
   "source": [
    "with open(\"example_1\", 'r') as f:\n",
    "    kk = f.read() "
   ]
  },
  {
   "cell_type": "code",
   "execution_count": 16,
   "metadata": {},
   "outputs": [
    {
     "data": {
      "text/plain": [
       "'impossible is nothing'"
      ]
     },
     "execution_count": 16,
     "metadata": {},
     "output_type": "execute_result"
    }
   ],
   "source": [
    "kk"
   ]
  },
  {
   "cell_type": "code",
   "execution_count": null,
   "metadata": {},
   "outputs": [],
   "source": []
  }
 ],
 "metadata": {
  "kernelspec": {
   "display_name": "Python 3",
   "language": "python",
   "name": "python3"
  },
  "language_info": {
   "codemirror_mode": {
    "name": "ipython",
    "version": 3
   },
   "file_extension": ".py",
   "mimetype": "text/x-python",
   "name": "python",
   "nbconvert_exporter": "python",
   "pygments_lexer": "ipython3",
   "version": "3.8.3"
  }
 },
 "nbformat": 4,
 "nbformat_minor": 4
}
